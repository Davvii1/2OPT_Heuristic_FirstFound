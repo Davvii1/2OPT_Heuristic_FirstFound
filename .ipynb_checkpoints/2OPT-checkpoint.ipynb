{
 "cells": [
  {
   "cell_type": "code",
   "execution_count": 2,
   "metadata": {
    "pycharm": {
     "name": "#%%\n"
    }
   },
   "outputs": [
    {
     "ename": "ImportError",
     "evalue": "\n\nIMPORTANT: PLEASE READ THIS FOR ADVICE ON HOW TO SOLVE THIS ISSUE!\n\nImporting the numpy C-extensions failed. This error can happen for\nmany reasons, often due to issues with your setup or how NumPy was\ninstalled.\n\nWe have compiled some common reasons and troubleshooting tips at:\n\n    https://numpy.org/devdocs/user/troubleshooting-importerror.html\n\nPlease note and check the following:\n\n  * The Python version is: Python3.9 from \"C:\\Users\\david\\anaconda3\\envs\\2OPT\\python.exe\"\n  * The NumPy version is: \"1.21.5\"\n\nand make sure that they are the versions you expect.\nPlease carefully study the documentation linked above for further help.\n\nOriginal error was: DLL load failed while importing _multiarray_umath: The specified module could not be found.\n",
     "output_type": "error",
     "traceback": [
      "\u001b[1;31m---------------------------------------------------------------------------\u001b[0m",
      "\u001b[1;31mImportError\u001b[0m                               Traceback (most recent call last)",
      "File \u001b[1;32m~\\anaconda3\\envs\\2OPT\\lib\\site-packages\\numpy\\core\\__init__.py:22\u001b[0m, in \u001b[0;36m<module>\u001b[1;34m\u001b[0m\n\u001b[0;32m     21\u001b[0m \u001b[38;5;28;01mtry\u001b[39;00m:\n\u001b[1;32m---> 22\u001b[0m     \u001b[38;5;28;01mfrom\u001b[39;00m \u001b[38;5;21;01m.\u001b[39;00m \u001b[38;5;28;01mimport\u001b[39;00m multiarray\n\u001b[0;32m     23\u001b[0m \u001b[38;5;28;01mexcept\u001b[39;00m \u001b[38;5;167;01mImportError\u001b[39;00m \u001b[38;5;28;01mas\u001b[39;00m exc:\n",
      "File \u001b[1;32m~\\anaconda3\\envs\\2OPT\\lib\\site-packages\\numpy\\core\\multiarray.py:12\u001b[0m, in \u001b[0;36m<module>\u001b[1;34m\u001b[0m\n\u001b[0;32m     10\u001b[0m \u001b[38;5;28;01mimport\u001b[39;00m \u001b[38;5;21;01mwarnings\u001b[39;00m\n\u001b[1;32m---> 12\u001b[0m \u001b[38;5;28;01mfrom\u001b[39;00m \u001b[38;5;21;01m.\u001b[39;00m \u001b[38;5;28;01mimport\u001b[39;00m overrides\n\u001b[0;32m     13\u001b[0m \u001b[38;5;28;01mfrom\u001b[39;00m \u001b[38;5;21;01m.\u001b[39;00m \u001b[38;5;28;01mimport\u001b[39;00m _multiarray_umath\n",
      "File \u001b[1;32m~\\anaconda3\\envs\\2OPT\\lib\\site-packages\\numpy\\core\\overrides.py:7\u001b[0m, in \u001b[0;36m<module>\u001b[1;34m\u001b[0m\n\u001b[0;32m      5\u001b[0m \u001b[38;5;28;01mimport\u001b[39;00m \u001b[38;5;21;01mtextwrap\u001b[39;00m\n\u001b[1;32m----> 7\u001b[0m \u001b[38;5;28;01mfrom\u001b[39;00m \u001b[38;5;21;01mnumpy\u001b[39;00m\u001b[38;5;21;01m.\u001b[39;00m\u001b[38;5;21;01mcore\u001b[39;00m\u001b[38;5;21;01m.\u001b[39;00m\u001b[38;5;21;01m_multiarray_umath\u001b[39;00m \u001b[38;5;28;01mimport\u001b[39;00m (\n\u001b[0;32m      8\u001b[0m     add_docstring, implement_array_function, _get_implementing_args)\n\u001b[0;32m      9\u001b[0m \u001b[38;5;28;01mfrom\u001b[39;00m \u001b[38;5;21;01mnumpy\u001b[39;00m\u001b[38;5;21;01m.\u001b[39;00m\u001b[38;5;21;01mcompat\u001b[39;00m\u001b[38;5;21;01m.\u001b[39;00m\u001b[38;5;21;01m_inspect\u001b[39;00m \u001b[38;5;28;01mimport\u001b[39;00m getargspec\n",
      "\u001b[1;31mImportError\u001b[0m: DLL load failed while importing _multiarray_umath: The specified module could not be found.",
      "\nDuring handling of the above exception, another exception occurred:\n",
      "\u001b[1;31mImportError\u001b[0m                               Traceback (most recent call last)",
      "Input \u001b[1;32mIn [2]\u001b[0m, in \u001b[0;36m<cell line: 2>\u001b[1;34m()\u001b[0m\n\u001b[0;32m      1\u001b[0m \u001b[38;5;66;03m# Student Name: Pedro David Rodríguez Garrido - 1905447\u001b[39;00m\n\u001b[1;32m----> 2\u001b[0m \u001b[38;5;28;01mimport\u001b[39;00m \u001b[38;5;21;01mnumpy\u001b[39;00m \u001b[38;5;28;01mas\u001b[39;00m \u001b[38;5;21;01mnp\u001b[39;00m\n\u001b[0;32m      3\u001b[0m \u001b[38;5;28;01mimport\u001b[39;00m \u001b[38;5;21;01mmatplotlib\u001b[39;00m\u001b[38;5;21;01m.\u001b[39;00m\u001b[38;5;21;01mpyplot\u001b[39;00m \u001b[38;5;28;01mas\u001b[39;00m \u001b[38;5;21;01mplt\u001b[39;00m\n\u001b[0;32m      4\u001b[0m \u001b[38;5;28;01mimport\u001b[39;00m \u001b[38;5;21;01mtourF\u001b[39;00m \u001b[38;5;28;01mas\u001b[39;00m \u001b[38;5;21;01mtF\u001b[39;00m\n",
      "File \u001b[1;32m~\\anaconda3\\envs\\2OPT\\lib\\site-packages\\numpy\\__init__.py:150\u001b[0m, in \u001b[0;36m<module>\u001b[1;34m\u001b[0m\n\u001b[0;32m    147\u001b[0m \u001b[38;5;66;03m# Allow distributors to run custom init code\u001b[39;00m\n\u001b[0;32m    148\u001b[0m \u001b[38;5;28;01mfrom\u001b[39;00m \u001b[38;5;21;01m.\u001b[39;00m \u001b[38;5;28;01mimport\u001b[39;00m _distributor_init\n\u001b[1;32m--> 150\u001b[0m \u001b[38;5;28;01mfrom\u001b[39;00m \u001b[38;5;21;01m.\u001b[39;00m \u001b[38;5;28;01mimport\u001b[39;00m core\n\u001b[0;32m    151\u001b[0m \u001b[38;5;28;01mfrom\u001b[39;00m \u001b[38;5;21;01m.\u001b[39;00m\u001b[38;5;21;01mcore\u001b[39;00m \u001b[38;5;28;01mimport\u001b[39;00m \u001b[38;5;241m*\u001b[39m\n\u001b[0;32m    152\u001b[0m \u001b[38;5;28;01mfrom\u001b[39;00m \u001b[38;5;21;01m.\u001b[39;00m \u001b[38;5;28;01mimport\u001b[39;00m compat\n",
      "File \u001b[1;32m~\\anaconda3\\envs\\2OPT\\lib\\site-packages\\numpy\\core\\__init__.py:48\u001b[0m, in \u001b[0;36m<module>\u001b[1;34m\u001b[0m\n\u001b[0;32m     24\u001b[0m     \u001b[38;5;28;01mimport\u001b[39;00m \u001b[38;5;21;01msys\u001b[39;00m\n\u001b[0;32m     25\u001b[0m     msg \u001b[38;5;241m=\u001b[39m \u001b[38;5;124m\"\"\"\u001b[39m\n\u001b[0;32m     26\u001b[0m \n\u001b[0;32m     27\u001b[0m \u001b[38;5;124mIMPORTANT: PLEASE READ THIS FOR ADVICE ON HOW TO SOLVE THIS ISSUE!\u001b[39m\n\u001b[1;32m   (...)\u001b[0m\n\u001b[0;32m     46\u001b[0m \u001b[38;5;124m\"\"\"\u001b[39m \u001b[38;5;241m%\u001b[39m (sys\u001b[38;5;241m.\u001b[39mversion_info[\u001b[38;5;241m0\u001b[39m], sys\u001b[38;5;241m.\u001b[39mversion_info[\u001b[38;5;241m1\u001b[39m], sys\u001b[38;5;241m.\u001b[39mexecutable,\n\u001b[0;32m     47\u001b[0m         __version__, exc)\n\u001b[1;32m---> 48\u001b[0m     \u001b[38;5;28;01mraise\u001b[39;00m \u001b[38;5;167;01mImportError\u001b[39;00m(msg)\n\u001b[0;32m     49\u001b[0m \u001b[38;5;28;01mfinally\u001b[39;00m:\n\u001b[0;32m     50\u001b[0m     \u001b[38;5;28;01mfor\u001b[39;00m envkey \u001b[38;5;129;01min\u001b[39;00m env_added:\n",
      "\u001b[1;31mImportError\u001b[0m: \n\nIMPORTANT: PLEASE READ THIS FOR ADVICE ON HOW TO SOLVE THIS ISSUE!\n\nImporting the numpy C-extensions failed. This error can happen for\nmany reasons, often due to issues with your setup or how NumPy was\ninstalled.\n\nWe have compiled some common reasons and troubleshooting tips at:\n\n    https://numpy.org/devdocs/user/troubleshooting-importerror.html\n\nPlease note and check the following:\n\n  * The Python version is: Python3.9 from \"C:\\Users\\david\\anaconda3\\envs\\2OPT\\python.exe\"\n  * The NumPy version is: \"1.21.5\"\n\nand make sure that they are the versions you expect.\nPlease carefully study the documentation linked above for further help.\n\nOriginal error was: DLL load failed while importing _multiarray_umath: The specified module could not be found.\n"
     ]
    }
   ],
   "source": [
    "# Student Name: Pedro David Rodríguez Garrido - 1905447\n",
    "import numpy as np\n",
    "import matplotlib.pyplot as plt\n",
    "import tourF as tF\n",
    "\n",
    "# Declare data\n",
    "points = np.array([[86, 37],[17, 94],[3, 65],[48, 43],[78, 70],[17, 55],[62, 91],[78, 91]])\n",
    "distances = np.array([['1-2', 89],['1-3', 87],['1-4', 38],['1-5', 33],['1-6', 71],['1-7', 59],['1-8', 54],['2-3', 32],['2-4', 59],['2-5', 65],['2-6', 39]\n",
    ",['2-7', 45],['2-8', 61],['3-4', 50],['3-5', 75],['3-6', 17],['3-7', 64],['3-8', 79],['4-5', 40],['4-6', 33],['4-7', 50],['4-8', 56],['5-6', 62],['5-7', 26]\n",
    ",['5-8', 21],['6-7', 57],['6-8', 70],['7-8', 16]])\n",
    "\n",
    "T = [1,2,3,4,5,6,7,8]\n",
    "\n",
    "# Show cities\n",
    "def showCities():\n",
    "    plt.title(\"Initial Cities\")\n",
    "    plt.scatter(points[:, 0], points[:, 1], c='blue', s=20)\n",
    "    for i in range(len(points)):\n",
    "        plt.annotate(i+1, (points[i][0]-1, points[i][1]-4))\n",
    "    plt.show()\n",
    "\n",
    "\n",
    "def tPlot(T):\n",
    "    fig = plt.figure()\n",
    "    ax = fig.add_subplot(111)\n",
    "    ax.scatter(points[:, 0], points[:, 1], c='blue', s=20)\n",
    "    for i in range(len(points)):\n",
    "        plt.annotate(i+1, points[i])\n",
    "    nCitySubtour = len(T)-1\n",
    "    for i in range(nCitySubtour):\n",
    "        try:\n",
    "            x1, y1, x2, y2 = points[T[i]-1, 0],points[T[i]-1, 1],points[(T[i+1]-1), 0],points[(T[i+1]-1), 1]\n",
    "        except:\n",
    "            pass\n",
    "        ax.plot([x1,x2], [y1,y2])\n",
    "    spx, spy = points[T[0]-1, 0], points[T[0]-1, 1]\n",
    "    npx, npy = points[T[nCitySubtour]-1, 0], points[T[nCitySubtour]-1, 1]\n",
    "    ax.plot([spx,npx],[spy,npy])\n",
    "    plt.title('Tour: '+str(T))\n",
    "    plt.show()"
   ]
  },
  {
   "cell_type": "code",
   "execution_count": null,
   "metadata": {
    "pycharm": {
     "name": "#%%\n"
    }
   },
   "outputs": [],
   "source": [
    "# Function to get distance of two edges\n",
    "def getDistance(fEdge, sEdge):\n",
    "    edgeFE = fEdge.split(\"-\")[0], fEdge.split(\"-\")[1]\n",
    "    edgeSE = sEdge.split(\"-\")[0], sEdge.split(\"-\")[1]\n",
    "    edgeFS = fEdge.split(\"-\")[0], sEdge.split(\"-\")[0]\n",
    "    edgeSF = sEdge.split(\"-\")[1], fEdge.split(\"-\")[1]\n",
    "    eFd = edgeFE, edgeSE, edgeFS, edgeSF\n",
    "    edgedis = []\n",
    "    for edge in eFd:\n",
    "        d = np.argwhere(distances[:, 0] == \"-\".join(sorted(edge)))\n",
    "        dint = int(distances[d[0], 1])\n",
    "        edgedis.append(dint)\n",
    "    delta = lambda x, y, a, b: (x + y) - (a + b)\n",
    "    dis = delta(edgedis[0], edgedis[1], edgedis[2], edgedis[3])\n",
    "    print(\"Delta distance between edge\", fEdge, \"and\", sEdge, \"equals\", dis)\n",
    "    return dis\n",
    "\n",
    "# Function to get total cost of Tour\n",
    "def getTD(edges):\n",
    "    dint = 0\n",
    "    for x in edges:\n",
    "        if int(x.split(\"-\")[0])>int(x.split(\"-\")[1]):\n",
    "            x = x.split(\"-\")[1] + \"-\" + x.split(\"-\")[0]\n",
    "        d = np.argwhere(distances[:, 0] == x)\n",
    "        dint += int(distances[d[0], 1])\n",
    "    print(\"Cost of travel in this iteration:\", dint)"
   ]
  },
  {
   "cell_type": "code",
   "execution_count": null,
   "metadata": {
    "pycharm": {
     "name": "#%%\n"
    }
   },
   "outputs": [],
   "source": [
    "showCities()\n",
    "iterable = 1\n",
    "while iterable == 1:\n",
    "    # Get Edges of Tour, Edges for new Tour and New Tour\n",
    "    edges = tF.getEdges(T)\n",
    "    tPlot(T)\n",
    "    print(\"Tour edges:\", edges)\n",
    "    getTD(edges)\n",
    "\n",
    "    # Get not adjacent edges\n",
    "    adj = []\n",
    "    for x in range(len(T)):\n",
    "        for y in range(len(edges)):\n",
    "                if edges[x].split(\"-\")[0] not in edges[y] and edges[x].split(\"-\")[1] not in edges[y]:\n",
    "                    if ([edges[x], edges[y]]) not in adj and ([edges[y], edges[x]]) not in adj:\n",
    "                        adj.append([edges[x], edges[y]])\n",
    "\n",
    "    #  Print distances and get points to be removed\n",
    "    print(\"---------------Delta Calculations---------------\")\n",
    "    delist = [getDistance(x[0], x[1]) for x in adj if max(delist)<0]\n",
    "    print(\"------------------------------------------------\")\n",
    "    ptbR = adj[delist.index(max(delist))]\n",
    "    if max(delist)<0:\n",
    "        iterable = 0\n",
    "        tFt = \"Last Tour:\"\n",
    "    else:\n",
    "        tFt = \"New Tour:\"\n",
    "        print(\"Points to be removed:\", ptbR)\n",
    "\n",
    "    # Set new tour and points to be removed\n",
    "    p1 = [int(x) for x in ptbR[0].split(\"-\")]\n",
    "    p2 = [int(x) for x in ptbR[1].split(\"-\")]\n",
    "    EdgePoints = [p1, p2]\n",
    "    newE, nextT = tF.getNextTour(edges, EdgePoints)\n",
    "    print(\"New Edges:\", newE)\n",
    "    print(tFt, nextT)\n",
    "    T = nextT"
   ]
  }
 ],
 "metadata": {
  "kernelspec": {
   "display_name": "Python 3 (ipykernel)",
   "language": "python",
   "name": "python3"
  },
  "language_info": {
   "codemirror_mode": {
    "name": "ipython",
    "version": 3
   },
   "file_extension": ".py",
   "mimetype": "text/x-python",
   "name": "python",
   "nbconvert_exporter": "python",
   "pygments_lexer": "ipython3",
   "version": "3.8.10"
  }
 },
 "nbformat": 4,
 "nbformat_minor": 1
}
